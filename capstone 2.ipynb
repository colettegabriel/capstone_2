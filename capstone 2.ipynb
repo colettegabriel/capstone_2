{
 "cells": [
  {
   "cell_type": "markdown",
   "metadata": {},
   "source": [
    "# Exerimental Design with Retail Data"
   ]
  },
  {
   "cell_type": "markdown",
   "metadata": {},
   "source": [
    "## Table of Contents:\n",
    "* [About the Dataset](#introduction)\n",
    "* [Proposal](#proposal)\n",
    "* [Examining Existing Sales Call and Email Performance Rates](#existing)\n",
    "* [Testing Methodology](#methodology)\n",
    "    - [Sample Selection and Data Collection](#sample)\n",
    "    - [Assumptions](#assumptions)\n",
    "    - [What Does Success Look Like?](#look_like)\n",
    "* [Initial Test Results ](#test)"
   ]
  },
  {
   "cell_type": "markdown",
   "metadata": {},
   "source": [
    " ## About the Dataset <a name=\"introduction\"></a>\n",
    " <br>\n",
    " \n",
    "This sample data set was originally uploaded by Swayanjeet Mishra as a Kaggle test dataset. The focus of the dataset is a company that sells grocery products wholesale to other suppliers. I chose this dataset for the experimental design capstone because it contains datapoints for just over 42,000 customers with information on whether they made a purchase after being contacted by a salesperson vs. contacted through a marketing email.\n",
    "\n",
    "All sales data is for the U.S., and custoemrs are broken down by state, so we can evaluate the effects of the two marketing approaches by region as well as more broadly. For the sake of this experimental design, I refer to the company as BevCo because they mostly sell beverages."
   ]
  },
  {
   "cell_type": "markdown",
   "metadata": {},
   "source": [
    "## Proposal <a name='proposal'></a>\n",
    "<br>\n",
    "\n",
    "In the past, BevCo has maintained a large salesforce and used sales calls as the first contact for potential customers. This practice has been effective but expensive and hard to scale. In recent years, BevCo has tested email marketing and had some success. Current marketing efforts are divide rougly evenly, with half of initial outreach made through email (n = 21901) and half through direct calls (n = 20584).\n",
    "\n",
    "BevCo is anxious to cut cost by reducing sales calls if they can prove that email marketing is at least as effective as their older, more labor intensive apprach. They have asked Marketing to create a new email campaign to test whether customer conversion rate can be maintained without the influence of direct sales calls."
   ]
  },
  {
   "cell_type": "markdown",
   "metadata": {},
   "source": [
    "## Examining Existing Sales Call vs. Email Performance <a name='existing'></a>\n",
    "<br>\n",
    "\n",
    "Before the new email campaign is implemented, it is important to research performance of the existing campaign and how it compares to sales call performance. The following data looks at both categories for all sales, and then breaks down the sales by states to see if particular sales regions have patterns that differ from the country as a whole.\n"
   ]
  },
  {
   "cell_type": "code",
   "execution_count": 1,
   "metadata": {
    "scrolled": false
   },
   "outputs": [],
   "source": [
    "import pandas as pd\n",
    "import requests\n",
    "import io\n",
    "\n",
    "\n",
    "url = 'https://raw.githubusercontent.com/colettegabriel/capstone_2/master/Powersell%20DATA.csv?token=AFQPQ3ZKRKUMNDPVOXRCB5K46WKY4'\n",
    "\n",
    "data_file = requests.get(url).content\n",
    "df = pd.read_csv(io.StringIO(data_file.decode('ISO-8859-1')))\n",
    "pd.options.mode.chained_assignment = None\n",
    "df.drop(['Brand', \n",
    "         'Customer Size By Number of Employees',\n",
    "         'Competitor Type',\n",
    "         'Anonymous Variable 1',\n",
    "         'Anonymous Variable 2', \n",
    "         'Anonymous Variable 3',\n",
    "         'Anonymous Variable 4'], axis=1, inplace=True)"
   ]
  },
  {
   "cell_type": "code",
   "execution_count": 2,
   "metadata": {},
   "outputs": [],
   "source": [
    "def cat_filter(df, category, filter):\n",
    "    cat_filter = df.loc[df[category]== filter]\n",
    "    return cat_filter\n",
    "\n",
    "def state_count(df, filter1, filter2):\n",
    "    yes_count = df[(df['First Contact Type'] == filter1) &\n",
    "               (df['State'] == filter2) & \n",
    "               (df['Sale'] == 'Yes')].count()\n",
    "    yes_count = yes_count['Sale']\n",
    "    no_count = df[(df['First Contact Type'] == filter1) &\n",
    "               (df['State'] == filter2) & \n",
    "               (df['Sale'] == 'No')].count()\n",
    "    no_count = no_count['Sale']\n",
    "    return yes_count, no_count"
   ]
  },
  {
   "cell_type": "code",
   "execution_count": 118,
   "metadata": {},
   "outputs": [
    {
     "name": "stdout",
     "output_type": "stream",
     "text": [
      "The current success rate for direct contact with a sales person is 27.57 percent.\n",
      "Current success rate for email marketing is 18.39 percent.\n",
      "\n",
      "We also want to look at success rates of calls vs email for each sales region.\n",
      "First, here is a count of the number of each typeo of contact, broken down by state.\n",
      "This ensures that we have a high enough volumne for each state to make statistical inferences.\n",
      "\n",
      "Sales Calls\n",
      "        State  Call Count\n",
      "0     Arizona        2481\n",
      "1  California        3031\n",
      "2     Montana        1996\n",
      "3      Oregon        2395\n",
      "4       Texas        2216\n",
      "5        Utah        5798\n",
      "6  Washington        2667\n",
      "\n",
      "Email Contact\n",
      "        State  Call Count\n",
      "0     Arizona        2675\n",
      "1  California        4092\n",
      "2     Montana        2236\n",
      "3      Oregon        2030\n",
      "4       Texas        2319\n",
      "5        Utah        5874\n",
      "6  Washington        2675\n"
     ]
    }
   ],
   "source": [
    "df.loc[df['Sale'] == 'Yes', 'Sale_num'] = 1\n",
    "df.loc[df['Sale'] == 'No', 'Sale_num'] = 0\n",
    "\n",
    "call_count = len(df[df['First Contact Type'] == 'Direct Contact by Salesperson'])\n",
    "email_count = len(df[df['First Contact Type'] == 'Email'])\n",
    "\n",
    "calls = cat_filter(df, 'First Contact Type', 'Direct Contact by Salesperson')\n",
    "call_sale = len(calls[calls['Sale'] == 'Yes'])\n",
    "call_percent = (call_sale/call_count)*100\n",
    "\n",
    "emails = cat_filter(df, 'First Contact Type', 'Email')\n",
    "email_sale = len(emails[emails['Sale'] == 'Yes'])\n",
    "email_percent = (email_sale/email_count)*100\n",
    "\n",
    "calls_reg = calls.groupby(['State']).count().reset_index()\n",
    "calls_region = calls_reg[['State','Type']]\n",
    "calls_region.columns = ['State', 'Call Count']\n",
    "\n",
    "emails_reg = emails.groupby(['State']).count().reset_index()\n",
    "emails_region = emails_reg[['State','Type']]\n",
    "emails_region.columns = ['State', 'Call Count']\n",
    "\n",
    "\n",
    "print('The current success rate for direct contact with a sales person is {} percent.'.format(round(call_percent, 2)))\n",
    "print('Current success rate for email marketing is {} percent.'.format(round(email_percent, 2)))\n",
    "\n",
    "print('\\nWe also want to look at success rates of calls vs email for each sales region.')\n",
    "print('First, here is a count of the number of each typeo of contact, broken down by state.')\n",
    "print('This ensures that we have a high enough volumne for each state to make statistical inferences.')\n",
    "print('\\nSales Calls\\n{}'.format(calls_region))\n",
    "print('\\nEmail Contact\\n{}'.format(emails_region))"
   ]
  },
  {
   "cell_type": "code",
   "execution_count": 60,
   "metadata": {},
   "outputs": [],
   "source": [
    "states = ['Arizona', 'California', 'Oregon', 'Washington', 'Texas', 'Utah', 'Montana']\n",
    "call_state_yes, call_state_no = dict(), dict()\n",
    "email_state_yes, email_state_no = dict(), dict()\n",
    "calls_state_percent, emails_state_percent = dict(), dict()\n",
    "\n",
    "for state in states:\n",
    "    call_state_yes[state], call_state_no[state] = state_count(df, 'Direct Contact by Salesperson', state)\n",
    "    email_state_yes[state], email_state_no[state] = state_count(df, 'Email', state)\n",
    "    calls_state_percent[state] = (call_state_yes[state]/(call_state_yes[state]+call_state_no[state]))*100\n",
    "    calls_state_percent[state] = round(calls_state_percent[state], 2)\n",
    "    emails_state_percent[state] = (email_state_yes[state]/(email_state_yes[state]+email_state_no[state]))*100\n",
    "    emails_state_percent[state] = round(emails_state_percent[state], 2)"
   ]
  },
  {
   "cell_type": "code",
   "execution_count": 61,
   "metadata": {
    "scrolled": true
   },
   "outputs": [
    {
     "name": "stdout",
     "output_type": "stream",
     "text": [
      "Success rates for sales calls for each state are:\n",
      "Arizona         23.78     \n",
      "California      27.65     \n",
      "Oregon          27.18     \n",
      "Washington      24.48     \n",
      "Texas           21.66     \n",
      "Utah            33.82     \n",
      "Montana         25.2      \n",
      "\n",
      "Success rates for emails for each state are:\n",
      "Arizona         20.6      \n",
      "California      20.7      \n",
      "Oregon          16.31     \n",
      "Washington      18.84     \n",
      "Texas           15.57     \n",
      "Utah            17.84     \n",
      "Montana         17.22     \n"
     ]
    }
   ],
   "source": [
    "print('Success rates for sales calls for each state are:')\n",
    "for key, val in calls_state_percent.items():\n",
    "    print('{:<15} {:<10}'.format(key, val))\n",
    "print('\\nSuccess rates for emails for each state are:')\n",
    "for key, val in emails_state_percent.items():\n",
    "    print('{:<15} {:<10}'.format(key, val))"
   ]
  },
  {
   "cell_type": "markdown",
   "metadata": {},
   "source": [
    "## Testing Methodology <a name=\"method\"></a>\n",
    "<br>\n",
    "\n",
    "BevCo currently reaches about 1,825 perspective new customers per month through ongoing email campaigns. In order to test the effectiveness of the new campaign, we propose that 20% of the contacts who would have ordinarily been designated to receive the existing email receive the new email instead.\n",
    "\n",
    "<h3>Sample Selection and Data Collection</h3> <a name='sample'></a>\n",
    "\n",
    "For the first month, the 20% who receive the new email campaign will be decided randomly from our list of all potential contacts in the U.S. After 2 weeks we will review the results of the campaign to get a snapshot of how the new email is performing. This will give the team the chance to check and adjust if any changes need to be made. \n",
    "\n",
    "If results are not statistically significant after the first month, we will continue to run the test in the same manner for an additional month to gather more data. If the test shows signs of success (i.e., being significantly more effective than the original email in achieving sales), we propose to keep the ratio at 20% during an additional month, focusing the new emails more heavily in the territories of Utah and Oregon. In these two regions sales calls outperform emails by the highest rates (16% and 11%), so they will be good places for further testing if inititial improvement is shown.\n",
    "\n",
    "<h3>Assumptions</h3> <a name='assumptions'></a>\n",
    "\n",
    "For the results of this test to be valid, we assume that potentional new customers receiving this new email would respond in a way similar to customers who have received the existing email in the past. We need to make this assumption because we are looking only at new customers, not repeat business.\n",
    "\n",
    "An alternate way to test the effectiveness of the new email campaign would be to send a second series of emails to contacts who did not convert after their intial contact. To conduct this test, we would pull a sample of several thousand past contacts from the database and email them again. The division would be the same as for the new potential customers, i.e. 20% would receive the new email and the remaining 80% would receive the old email.\n",
    "\n",
    "The good news is that both of these tests can be run simultaneously and both with provide slightly different data to ascertain the effectiveness of the new email campaign.\n",
    "\n",
    "<h3>What Does Success Look Like?</h3> <a name=\"look_like\"></a>\n",
    "\n",
    "The objective is to demonstrate an improved conversion rate for the potential new customers to become buyers. The <b>success metric</b> for this campaign will be the number of emails that result in sales for the new campaign when compared to existing email sales rates. We will rate performance compared with all sales data for the past year and with sales data with Q2 from the past year. We will also break down performance of the new email campaign by sales region to compare on a state by state basis with existing data.\n",
    "\n",
    "Secondarily we will continue compare the performance of each email campaign separately to the effectiveness of sales calls. As testing continues, we will outline additional work involving testing the email campaigns with potential customers who were previously reached through sales calls and with calling contacts who did not convert through email campaigns."
   ]
  },
  {
   "cell_type": "markdown",
   "metadata": {},
   "source": [
    "# Initial Test Results <a name=\"test\"></a>"
   ]
  },
  {
   "cell_type": "markdown",
   "metadata": {},
   "source": [
    "For the sake of this experiment, let's assume that 2 months have passed and we have gathered data for the new email campaign. 20% of the 1,825 customers contacted each month leads to a sample size of 730 for the 2 month period."
   ]
  },
  {
   "cell_type": "code",
   "execution_count": 122,
   "metadata": {},
   "outputs": [],
   "source": [
    "from scipy import stats\n",
    "\n",
    "url = 'https://raw.githubusercontent.com/colettegabriel/capstone_2/master/Powersell%20DATA%20new%20email.csv'\n",
    "    \n",
    "data_file = requests.get(url).content\n",
    "df_test = pd.read_csv(io.StringIO(data_file.decode('ISO-8859-1')))\n",
    "pd.options.mode.chained_assignment = None\n",
    "df_test.drop(['Brand', \n",
    "         'Customer Size By Number of Employees',\n",
    "         'Competitor Type',\n",
    "         'Anonymous Variable 1',\n",
    "         'Anonymous Variable 2', \n",
    "         'Anonymous Variable 3',\n",
    "         'Anonymous Variable 4'], axis=1, inplace=True)"
   ]
  },
  {
   "cell_type": "code",
   "execution_count": 123,
   "metadata": {},
   "outputs": [],
   "source": [
    "df_test.loc[df_test['Sale'] == 'Yes', 'Sale_num'] = 1\n",
    "df_test.loc[df_test['Sale'] == 'No', 'Sale_num'] = 0\n",
    "\n",
    "email_count_new = len(df_test[df_test['First Contact Type'] == 'Email'])\n",
    "\n",
    "emails_new = cat_filter(df_test, 'First Contact Type', 'Email')\n",
    "email_sale_new = len(emails_new[emails_new['Sale'] == 'Yes'])\n",
    "email_percent_new = (email_sale_new/email_count_new)*100"
   ]
  },
  {
   "cell_type": "markdown",
   "metadata": {},
   "source": [
    "To evaluate whether the new email is statistically more effective than the old email campaign, we'll use an independent samples t-test. In this case, the null hypothesis is that the new email is not more effective than the old, in which case we continue to use the old email while the marketing team works on a new email to test."
   ]
  },
  {
   "cell_type": "code",
   "execution_count": 134,
   "metadata": {},
   "outputs": [
    {
     "name": "stdout",
     "output_type": "stream",
     "text": [
      "The new campaign effective rate is 20.82, compared to the former rate of 18.39.\n",
      "Is this statistically significant?\n",
      "\n",
      "Ttest_indResult(statistic=1.6677377276840242, pvalue=0.09538163897631992)\n"
     ]
    }
   ],
   "source": [
    "print('The new campaign effective rate is {}, compared to the former rate of {}.'.format(round(email_percent_new,2), \n",
    "                                                                                        round(email_percent, 2)))\n",
    "print('Is this statistically significant?\\n')\n",
    "print(stats.ttest_ind(emails_new['Sale_num'], emails['Sale_num']))"
   ]
  },
  {
   "cell_type": "markdown",
   "metadata": {},
   "source": [
    "In this case, the p-value of 0.095 does not meet our significant criteria of 0.05. This means that while we can see that the rate of sales has increased for the new email, the amount of improvement is not statistically significant to show that the new email is more effective than the old email. Based on this result, we recommend that the marketing department devise another test email, then we will re-run this process using the revised email campaign."
   ]
  },
  {
   "cell_type": "code",
   "execution_count": null,
   "metadata": {},
   "outputs": [],
   "source": []
  }
 ],
 "metadata": {
  "kernelspec": {
   "display_name": "Python 3",
   "language": "python",
   "name": "python3"
  },
  "language_info": {
   "codemirror_mode": {
    "name": "ipython",
    "version": 3
   },
   "file_extension": ".py",
   "mimetype": "text/x-python",
   "name": "python",
   "nbconvert_exporter": "python",
   "pygments_lexer": "ipython3",
   "version": "3.7.3"
  }
 },
 "nbformat": 4,
 "nbformat_minor": 2
}
